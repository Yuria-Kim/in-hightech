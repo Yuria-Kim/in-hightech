{
  "cells": [
    {
      "cell_type": "markdown",
      "metadata": {
        "id": "7x9MdiMFNwAo"
      },
      "source": [
        "# 인프런 검색 활용하여 크롤링하기 "
      ]
    },
    {
      "cell_type": "markdown",
      "metadata": {
        "id": "jTrthWUqNwAs"
      },
      "source": [
        "<span style=\"color: red; font-size: 18pt\">\n",
        "Step 1. 필요한 모듈과 함수 임포트하기\n",
        "</span> "
      ]
    },
    {
      "cell_type": "code",
      "execution_count": null,
      "metadata": {
        "id": "c_c_XWDhNwAt"
      },
      "outputs": [],
      "source": [
        "from bs4 import BeautifulSoup\n",
        "from selenium import webdriver\n",
        "import time\n",
        "\n",
        "import os\n",
        "import pandas as pd "
      ]
    },
    {
      "cell_type": "markdown",
      "metadata": {
        "id": "hZTmlLSvNwAu"
      },
      "source": [
        "<span style=\"color:blue\">\n",
        "● 디렉토리 생성 및 이동, 현재 디렉토리 확인 방법 \n",
        "</span>  "
      ]
    },
    {
      "cell_type": "code",
      "execution_count": null,
      "metadata": {
        "id": "bkZeFRRBNwAv",
        "outputId": "7696927f-cf50-4223-f840-d66d806813a8"
      },
      "outputs": [
        {
          "data": {
            "text/plain": [
              "'c:\\\\temp\\\\crawling'"
            ]
          },
          "execution_count": 2,
          "metadata": {},
          "output_type": "execute_result"
        }
      ],
      "source": [
        "os.makedirs('c:/temp/exercise')   #디렉토리 이동  \n",
        "os.chdir('c:/temp/exercise')   #디렉토리 이동  \n",
        "os.getcwd()        #현재 디렉토리 확인 "
      ]
    },
    {
      "cell_type": "markdown",
      "metadata": {
        "id": "PSjzIy2RNwAw"
      },
      "source": [
        "<span style=\"color:blue\">\n",
        "● 날짜 및 시간 함수 활용 방법\n",
        "</span>  "
      ]
    },
    {
      "cell_type": "code",
      "execution_count": null,
      "metadata": {
        "id": "xyTf1VLnNwAx",
        "outputId": "e2b4eb27-f815-4d3c-e5b6-64b51aa226cb"
      },
      "outputs": [
        {
          "name": "stdout",
          "output_type": "stream",
          "text": [
            "1682478275.9901662\n"
          ]
        }
      ],
      "source": [
        "s_time = time.time( )  #현재 시각을 초 단위로 환산 \n",
        "print(s_time)"
      ]
    },
    {
      "cell_type": "code",
      "execution_count": null,
      "metadata": {
        "id": "P2cooS70NwAx",
        "outputId": "f3de1382-b5a0-411d-b1c7-689b08483c06"
      },
      "outputs": [
        {
          "name": "stdout",
          "output_type": "stream",
          "text": [
            "time.struct_time(tm_year=2023, tm_mon=4, tm_mday=26, tm_hour=12, tm_min=4, tm_sec=36, tm_wday=2, tm_yday=116, tm_isdst=0)\n"
          ]
        }
      ],
      "source": [
        "now = time.localtime()  #현재 날짜 및 시각 출력\n",
        "print(now)"
      ]
    },
    {
      "cell_type": "code",
      "execution_count": null,
      "metadata": {
        "id": "GFnDYsheNwAy",
        "outputId": "68e5e213-865c-4c55-dce3-753b0597906e"
      },
      "outputs": [
        {
          "data": {
            "text/plain": [
              "4"
            ]
          },
          "execution_count": 5,
          "metadata": {},
          "output_type": "execute_result"
        }
      ],
      "source": [
        "now.tm_mon  #현재 날짜 중에서 '월'을 출력"
      ]
    },
    {
      "cell_type": "markdown",
      "metadata": {
        "id": "gC1m6MzoNwAz"
      },
      "source": [
        "<span style=\"color: red; font-size: 18pt\">\n",
        "Step 2. 필요한 디렉토리 생성하기\n",
        "</span> "
      ]
    },
    {
      "cell_type": "code",
      "execution_count": null,
      "metadata": {
        "id": "vC-bY3NeNwAz"
      },
      "outputs": [],
      "source": [
        "now = time.localtime()  \n",
        "txt1 = 'Inflearn'\n",
        "txt2 = '%04d년%02d월%02d일 %02d시%02d분%02d초' %(now.tm_year, now.tm_mon, now.tm_mday, now.tm_hour, now.tm_min, now.tm_sec)"
      ]
    },
    {
      "cell_type": "code",
      "execution_count": null,
      "metadata": {
        "id": "xx0Si8dwNwAz",
        "outputId": "f18a4c44-082b-4f02-c700-e215b9fc08ad"
      },
      "outputs": [
        {
          "data": {
            "text/plain": [
              "time.struct_time(tm_year=2023, tm_mon=4, tm_mday=26, tm_hour=12, tm_min=4, tm_sec=38, tm_wday=2, tm_yday=116, tm_isdst=0)"
            ]
          },
          "execution_count": 9,
          "metadata": {},
          "output_type": "execute_result"
        }
      ],
      "source": [
        "now "
      ]
    },
    {
      "cell_type": "code",
      "execution_count": null,
      "metadata": {
        "id": "j9LCPcCcNwAz",
        "outputId": "5e338f73-66f9-4cd2-a3c3-9ff9104ed2cb"
      },
      "outputs": [
        {
          "data": {
            "text/plain": [
              "'Naver blog '"
            ]
          },
          "execution_count": 10,
          "metadata": {},
          "output_type": "execute_result"
        }
      ],
      "source": [
        "txt1"
      ]
    },
    {
      "cell_type": "code",
      "execution_count": null,
      "metadata": {
        "id": "YcMI0AT3NwA0",
        "outputId": "c8a92dd4-b8fe-45c3-a6f7-33f150a61f4b"
      },
      "outputs": [
        {
          "data": {
            "text/plain": [
              "'2023년04월26일 12시04분38초'"
            ]
          },
          "execution_count": 11,
          "metadata": {},
          "output_type": "execute_result"
        }
      ],
      "source": [
        "txt2"
      ]
    },
    {
      "cell_type": "code",
      "execution_count": null,
      "metadata": {
        "id": "fym8qgS-NwA0",
        "outputId": "6ec0c5f5-5fc5-4994-8259-c77e24245019"
      },
      "outputs": [
        {
          "name": "stdout",
          "output_type": "stream",
          "text": [
            "Naver blog 2023년04월26일 12시04분38초\n"
          ]
        }
      ],
      "source": [
        "dir_name = txt1+txt2\n",
        "print(dir_name)"
      ]
    },
    {
      "cell_type": "code",
      "execution_count": null,
      "metadata": {
        "id": "ILwrg7FKNwA0",
        "outputId": "33fd63f9-4033-45b4-cd81-511aace827c1"
      },
      "outputs": [
        {
          "data": {
            "text/plain": [
              "'c:\\\\temp\\\\crawling\\\\Naver blog 2023년04월26일 12시04분38초'"
            ]
          },
          "execution_count": 13,
          "metadata": {},
          "output_type": "execute_result"
        }
      ],
      "source": [
        "os.makedirs(dir_name)\n",
        "os.chdir(dir_name)\n",
        "os.getcwd()"
      ]
    },
    {
      "cell_type": "markdown",
      "metadata": {
        "id": "V2Czr6WINwA1"
      },
      "source": [
        "<span style=\"color: red; font-size: 18pt\">\n",
        "Step 3. 필요한 정보 입력받기 \n",
        "</span> "
      ]
    },
    {
      "cell_type": "code",
      "execution_count": null,
      "metadata": {
        "scrolled": true,
        "id": "lW7Ql3hkNwA1",
        "outputId": "c67d1eac-516c-4760-e664-83b51cde4477"
      },
      "outputs": [
        {
          "name": "stdout",
          "output_type": "stream",
          "text": [
            "1.크롤링할 키워드는 무엇입니까?:  (예: 인공지능) 인공지능\n",
            "2.크롤링할 데이터 개수를 쓰세요 :  (예: 100  )   100\n",
            "3.txt 형태로 저장할 파일명을 확장자 포함해서 쓰세요: (예: 인공지능.txt ) 인공지능.txt\n",
            "4.csv 형태로 저장할 파일명을 확장자 포함해서 쓰세요: (예: 인공지능.csv )  인공지능.csv\n",
            "5.xlsx 형태로 저장할 파일명을 확장자 포함해서 쓰세요: (예: 인공지능.xlsx ) 인공지능.xlsx\n"
          ]
        }
      ],
      "source": [
        "query_txt = input('1.크롤링할 키워드는 무엇입니까?:  (예: 프로그래밍 언어) ')    \n",
        "count = int(input('2.크롤링할 데이터 개수를 쓰세요 :  (예: 100  )   ')   )\n",
        "\n",
        "ft_name = input('3.txt 형태로 저장할 파일명을 확장자 포함해서 쓰세요: (예: 언어.txt ) ')   \n",
        "fc_name = input('4.csv 형태로 저장할 파일명을 확장자 포함해서 쓰세요: (예: 언어.csv )  ')   \n",
        "fx_name = input('5.xlsx 형태로 저장할 파일명을 확장자 포함해서 쓰세요: (예: 언어.xlsx ) ')   "
      ]
    },
    {
      "cell_type": "code",
      "execution_count": null,
      "metadata": {
        "id": "oKjDNL6PNwA1",
        "outputId": "3bf8e15d-bf94-4337-c788-64d687e8dda3"
      },
      "outputs": [
        {
          "name": "stdout",
          "output_type": "stream",
          "text": [
            "query_txt :  인공지능\n",
            "cnt :  100\n",
            "ft_name :  인공지능.txt\n",
            "fc_name :  인공지능.csv\n",
            "fx_name :  인공지능.xlsx\n"
          ]
        }
      ],
      "source": [
        "print('query_txt : ', query_txt)\n",
        "print('cnt : ', cnt)\n",
        "print('ft_name : ', ft_name)\n",
        "print('fc_name : ', fc_name)\n",
        "print('fx_name : ', fx_name)"
      ]
    },
    {
      "cell_type": "markdown",
      "metadata": {
        "id": "Emp72KY9NwA2"
      },
      "source": [
        "<span style=\"color: red; font-size: 18pt\">\n",
        "Step 4. 크롬 드라이버 실행한 후, 인프런 홈페이지 진입하기\n",
        "</span> "
      ]
    },
    {
      "cell_type": "code",
      "execution_count": null,
      "metadata": {
        "id": "T3yCMfFkNwA2"
      },
      "outputs": [],
      "source": [
        "path = \"c:/temp/chromedriver_112/chromedriver.exe\"\n",
        "driver = webdriver.Chrome(path)\n",
        "\n",
        "driver.get('https://www.inflearn.com/')\n",
        "time.sleep(2)\n",
        "\n",
        "s_time = time.time( )  #현재 시각을 초 단위로 환산 "
      ]
    },
    {
      "cell_type": "markdown",
      "metadata": {
        "id": "GNp8hlUINwA2"
      },
      "source": [
        "<span style=\"color: red; font-size: 18pt\">\n",
        "Step 5. 입력 창에 검색어를 전달하고 검색 실행하기\n",
        "</span> "
      ]
    },
    {
      "cell_type": "code",
      "execution_count": null,
      "metadata": {
        "id": "XMNdtcxJNwA2"
      },
      "outputs": [],
      "source": [
        "element = driver.find_element_by_id(\"input e_search_input\")\n",
        "element.send_keys(query_txt)\n",
        "element.submit() #submit()은 .click() 과 동일\n",
        "\n",
        "time.sleep(2)"
      ]
    },
    {
      "cell_type": "markdown",
      "metadata": {
        "id": "xZYtBb78NwA4"
      },
      "source": [
        "<span style=\"color: red; font-size: 18pt\">\n",
        "Step 7. 정렬 버튼 클릭하기 \n",
        "</span> "
      ]
    },
    {
      "cell_type": "code",
      "execution_count": null,
      "metadata": {
        "id": "wTt9q6Z_NwA4"
      },
      "outputs": [],
      "source": [
        "driver.find_element_by_xpath(//*[@id=\"courses_order_selector\"]).click()  \n",
        "time.sleep(2)"
      ]
    },
    {
      "cell_type": "markdown",
      "metadata": {
        "id": "XC-fTPEQNwA4"
      },
      "source": [
        "<span style=\"color: red; font-size: 18pt\">\n",
        "Step 8. 정렬 버튼 클릭하여 최신순 선택하기\n",
        "</span> "
      ]
    },
    {
      "cell_type": "code",
      "execution_count": null,
      "metadata": {
        "id": "jvdM8y74NwA4"
      },
      "outputs": [],
      "source": [
        "#정렬 메뉴에서 '인기순'으로 교체\n",
        "driver.find_element_by_xpath(//*[@id=\"courses_order_selector\"]/option[3]).click( )\n",
        "time.sleep(2)"
      ]
    },
    {
      "cell_type": "markdown",
      "metadata": {
        "id": "J8ijliiANwA8"
      },
      "source": [
        "<span style=\"color: red; font-size: 18pt\">\n",
        "Step 10. 검색 개수에 맞게 다음페이지 출력하기\n",
        "</span> "
      ]
    },
    {
      "cell_type": "code",
      "source": [
        "#현재 한 페이지에 10개씩 데이터가 출력되고 있다.\n",
        "print(\"수집할 데이터 개수 : \", count)\n",
        "\n",
        "#한 페이지에 포함된 데이터의 개수\n",
        "one_page_data = 20     \n",
        "\n",
        "#한 페이지에 20개의 데이터가 있을 경우 필요한 페이지 개수                          \n",
        "need_page_count = int(count/one_page_data)   # 5.0 = 100/20 과 동일한 의미 \n",
        "\n",
        "print(\"한 페이지에 %d 개의 데이터가 포함되어 있을 경우 %d 페이지가 필요함 \" %(one_page_data, need_page_count)) "
      ],
      "metadata": {
        "id": "tR0DHeQJUdNB"
      },
      "execution_count": null,
      "outputs": []
    },
    {
      "cell_type": "code",
      "execution_count": null,
      "metadata": {
        "id": "m0ieK5N9NwA-"
      },
      "outputs": [],
      "source": [
        "no = 1                #게시글 번호를 카운트할 변수를 1로 셋팅\n",
        "no_list =[ ]          #게시글 번호 저장용 리스트\n",
        "contents_list=[ ]     #게시글 제목 저장용 리스트\n",
        "tags_list=[ ]         #해쉬 태그 저장용 리스트 \n",
        "\n",
        "print(\"no : \", no)\n",
        "print(\"no_list  : \", no_list)\n",
        "print(\"contents_list : \", contents_list)\n",
        "print(\"tags_list : \", tags_list)\n",
        "      \n",
        "for page in range(1,need_page_count+1) :  #1 페이지부터 계산된 need_page_count (5page)까지 반복한다. \n",
        "    print('='*100)\n",
        "    print(\"%s 페이지 내용 크롤링을 시작합니다\" %page)  #page에는 1~5까지 대입     \n",
        "    print('-'*100)\n",
        "    time.sleep(2)              #페이지가 로딩 될 때까지 2초 대기\n",
        "      \n",
        "    #다시 처음부터 본격적으로 웹 크롤링을 시작한다.     \n",
        "    html = driver.page_source  #html에는 str 타입의 html소스가 할당\n",
        "    soup = BeautifulSoup(html, 'html.parser')   #soup에는bs4.BeautifulSoup 타입의 html소스가 할당\n",
        "        \n",
        "    #soup은 bs4에서 제공되는 함수 사용이 가능하다. \n",
        "    #'div'태그는'course_title' 클래스명이 처음 등장하는 부분을 찾고, <강의 타이틀>\n",
        "    #그 다음 'span'태그의 클래스명이 'review_cnt'인 것을 모두 찾는다. <리뷰/댓글 갯수>\n",
        "    content_li = soup.find('div','course_title').find_all('span','review_cnt')  \n",
        "\n",
        "    #content_li는 fild_all()함수의 리턴값을 가지고 있으며 데이터 타입은 리스트이다.\n",
        "    #content_li는 각각 해당 페이지에 있는 20개의 데이터를 의미한다. \n",
        "    \n",
        "    co = 0    \n",
        "    for i in content_li: #content_li는 현재 페이지의 fild_all()함수의 리턴값을 가지고 있는 리스트이다.       \n",
        "        \n",
        "        #content_li 리스트에 있는 fild_all()함수의 리턴값 0번 ~ 9번 인덱스까지 총 10개를 반복문 내에서 순서대로 출력 \n",
        "        print(\"◆◆◆\", content_li[co])  \n",
        "        co += 1  # co = co+1 동일한 표현\n",
        "        \n",
        "        #게시글 번호를 no_list 리스트에 추가    \n",
        "        print('● 번호:',no)  #전체 100개의 크롤링을 카운트하는 변수 (맨 처음에는 1, 두번째는 2 ... 마지막 10까지 출력)\n",
        "        no_list.append(no)          \n",
        "        \n",
        "        #게시글 제목을 contents_list 리스트에 추가        \n",
        "        contents = i.find('div').get_text( ) #제목에 해당하는 내용만 추출\n",
        "        contents = contents.strip()  #strip()은 제목에 해당하는 내용 중에서 좌우 여백을 제거  \n",
        "        print('제목:',contents)  #strip()은 제목에 해당하는 내용 중에서 좌우 여백을 제거        \n",
        "        contents_list.append(contents)  \n",
        "        \n",
        "        \n",
        "        #리뷰 갯수를 tags_list 리스트에 추가\n",
        "        #리뷰가 없는 경우도 있으므로....try ~ except 문법을 이용한 예외 처리 코드 사용\n",
        "        try :\n",
        "            tag = i.find('span').get_text() # 리뷰에 카운트 추출\n",
        "        except AttributeError :   #리뷰가 없어서 에러가 발생하면...\n",
        "            tag = '리뷰 정보가 없습니다' \n",
        "            tags_list.append(tag) #tags_list에 '리뷰정보가 없습니다' 내용을 추가     \n",
        "            print('★ 에러 모드 리뷰:', tag)            \n",
        "        else :         # 해쉬 태그가 있으면...\n",
        "            tags_list.append(tag.strip()) #tags_list에 '태그는 제거하고 좌우 여백을 제거한 내용만 추가\n",
        "            print('정상 모드 리뷰:',tag.strip())             \n",
        "        \n",
        "        #전체 100개의 크롤링을 카운트하는 변수 no (맨 처음에는 1, 두번째는 2 ... 마지막 10까지 출력)\n",
        "        #no += 1 을 수행하면 (맨 처음에는 2, 두번째는 3 ... 마지막 11 )\n",
        "        no += 1  \n",
        "        #print('♣ no :', no)  #no값의 상태를 파악하기 위한 부분 (생략 가능)        \n",
        "        print('-'*100)    \n",
        "        \n",
        "    time.sleep(2)        #페이지 변경 전 2초 대기        \n",
        "    next_page = page + 1  #다음 페이지를 위해서 1을 증가한다. page는 페이지를 카운트하는 변수이다.       \n",
        "    print(\"next page :\", next_page) #다음 페이지를 위해서 1을 증가한다. page는 페이지를 카운트하는 변수이다.   \n",
        "\n",
        "\n",
        "#다음 페이지가 없는 경우 or 페이지번호가 없이 >> 기호도 있으므로 \n",
        "#try ~ except 문법을 이용한 예외 처리 코드 사용 \n",
        "    try :      \n",
        "        if (page%10) == 0 :\n",
        "            driver.find_element_by_link_text(\"%s\" %\"...\").click()   \n",
        "        else :  \n",
        "            #html 코드를 보면 페이지를 의미하는1,2,3,... 부분의 이름이 1,2,3...으로 사용되고 있으므로 page 값으로 사용한다.  \n",
        "            driver.find_element_by_link_text(\"%s\" %page).click()   \n",
        "            \n",
        "    except :        \n",
        "        print(\"지정 된 수량이 완료되어 자동 종료합니다.\")\n",
        "        break            \n",
        "     "
      ]
    },
    {
      "cell_type": "code",
      "execution_count": null,
      "metadata": {
        "id": "6Y7fVYMPNwBB",
        "outputId": "51fdc781-13e8-4e2c-a16e-b78155f96b42"
      },
      "outputs": [
        {
          "name": "stdout",
          "output_type": "stream",
          "text": [
            "크롤링할 데이터 개수 :  100\n",
            "최종 크롤링된 데이터 개수 :  100\n"
          ]
        }
      ],
      "source": [
        "print(\"크롤링할 데이터 개수 : \",  cnt)\n",
        "print(\"최종 크롤링된 데이터 개수 : \",  no-1)"
      ]
    },
    {
      "cell_type": "markdown",
      "metadata": {
        "id": "hSOxueXLNwBB"
      },
      "source": [
        "<span style=\"color: red; font-size: 18pt\">\n",
        "Step 12. 출력 결과를 pandas를 이용하여 데이터프레임으로 생성하기\n",
        "</span> "
      ]
    },
    {
      "cell_type": "code",
      "execution_count": null,
      "metadata": {
        "id": "hrrwkqjzNwBC"
      },
      "outputs": [],
      "source": [
        "#위에서 import pandas as pd  선언했기 때문에 pd.DataFrame()를 사용할 수 있다. \n",
        "\n",
        "Inflearn = pd.DataFrame()\n",
        "\n",
        "Inflearn['번호']=no_list\n",
        "Inflearn['제목']=title_list\n",
        "Inflearn['내용']=contents_list\n",
        "Inflearn['작성자']=name_list\n",
        "Inflearn['작성일']=date_list"
      ]
    },
    {
      "cell_type": "code",
      "execution_count": null,
      "metadata": {
        "id": "9MhlFDRmNwBC",
        "outputId": "4099c9eb-741f-4f02-9299-cfd71e2b10ff"
      },
      "outputs": [
        {
          "data": {
            "text/html": [
              "<div>\n",
              "<style scoped>\n",
              "    .dataframe tbody tr th:only-of-type {\n",
              "        vertical-align: middle;\n",
              "    }\n",
              "\n",
              "    .dataframe tbody tr th {\n",
              "        vertical-align: top;\n",
              "    }\n",
              "\n",
              "    .dataframe thead th {\n",
              "        text-align: right;\n",
              "    }\n",
              "</style>\n",
              "<table border=\"1\" class=\"dataframe\">\n",
              "  <thead>\n",
              "    <tr style=\"text-align: right;\">\n",
              "      <th></th>\n",
              "      <th>번호</th>\n",
              "      <th>제목</th>\n",
              "      <th>내용</th>\n",
              "      <th>작성자</th>\n",
              "      <th>작성일</th>\n",
              "    </tr>\n",
              "  </thead>\n",
              "  <tbody>\n",
              "    <tr>\n",
              "      <th>0</th>\n",
              "      <td>1</td>\n",
              "      <td>트링크AI는 지역관광 솔루션입니다</td>\n",
              "      <td>첫째, AI 감성분석 (인공지능 분석) 합니다. 총 11개 SNS 채널의 수십만 데...</td>\n",
              "      <td>t-link</td>\n",
              "      <td>2021.11.10.</td>\n",
              "    </tr>\n",
              "    <tr>\n",
              "      <th>1</th>\n",
              "      <td>2</td>\n",
              "      <td>와이파이6 공유기 넷기어 RAX20 연결</td>\n",
              "      <td>편리한 기능이긴 하지만 IP 카메라나 인공지능스피커 같이 오래된 제품의 경우 2.4...</td>\n",
              "      <td>donnie의 레알 스마트한 생활</td>\n",
              "      <td>2021.11.10.</td>\n",
              "    </tr>\n",
              "    <tr>\n",
              "      <th>2</th>\n",
              "      <td>3</td>\n",
              "      <td>마인즈랩 공모 분석 [11/11~11/12]</td>\n",
              "      <td>필수적인 인공지능 인간 플랫폼 기업. 최근 이슈가 되었던 로지(신한라이프... 스마...</td>\n",
              "      <td>온갖 잡동사니 보관소</td>\n",
              "      <td>2021.11.10.</td>\n",
              "    </tr>\n",
              "    <tr>\n",
              "      <th>3</th>\n",
              "      <td>4</td>\n",
              "      <td>2021년 11월 10일 염승환 일일시황 &amp; 보고서 분석</td>\n",
              "      <td>메타버스에서 데이터, 네트워크, 인공지능은 매우 중요, 클라우드 서버의... 주인공...</td>\n",
              "      <td>장르를 넘나드는 헛발질</td>\n",
              "      <td>2021.11.10.</td>\n",
              "    </tr>\n",
              "    <tr>\n",
              "      <th>4</th>\n",
              "      <td>5</td>\n",
              "      <td>오브제공기청정기 LG공식렌탈에서 알아보고 선택하세요</td>\n",
              "      <td>공기청정기 인공 지능센서 무빙휠증정 알파공기청정기 월요금할인까지!! 이곳 LG공식렌...</td>\n",
              "      <td>별님</td>\n",
              "      <td>2021.11.10.</td>\n",
              "    </tr>\n",
              "    <tr>\n",
              "      <th>...</th>\n",
              "      <td>...</td>\n",
              "      <td>...</td>\n",
              "      <td>...</td>\n",
              "      <td>...</td>\n",
              "      <td>...</td>\n",
              "    </tr>\n",
              "    <tr>\n",
              "      <th>95</th>\n",
              "      <td>96</td>\n",
              "      <td>마인즈랩 공모주 청약 ｜ 수요예측 결과, 의무보유 확약 비율...</td>\n",
              "      <td>마인즈랩은 종합 인공지능 서비스 기업으로 AI 기술을 맞춤 조합하여 다양한 사업군과...</td>\n",
              "      <td>다시 쓰는 재테크</td>\n",
              "      <td>2021.11.10.</td>\n",
              "    </tr>\n",
              "    <tr>\n",
              "      <th>96</th>\n",
              "      <td>97</td>\n",
              "      <td>3번째 메타버스 독서모임 : 라이프로깅, 게더타운 생일...</td>\n",
              "      <td>앞으로 인공지능, 블록체인 등 기술력에 의해 일자리 대체되지 말고 꼭 생존하자고요 ...</td>\n",
              "      <td>RE-ONE: 천천히 음미하며 정성을 다하길</td>\n",
              "      <td>2021.11.10.</td>\n",
              "    </tr>\n",
              "    <tr>\n",
              "      <th>97</th>\n",
              "      <td>98</td>\n",
              "      <td>마인즈랩 (377480) 공모주 청약 분석 / 인공지능 서비스...</td>\n",
              "      <td>먼저 살펴볼 마인즈랩은 AI 인공지능 서비스 전문기업입니다. 사실 최근... AI ...</td>\n",
              "      <td>넘버원의 먹고 즐기는 재테크 이야기</td>\n",
              "      <td>2021.11.10.</td>\n",
              "    </tr>\n",
              "    <tr>\n",
              "      <th>98</th>\n",
              "      <td>99</td>\n",
              "      <td>황보현 HS애드(본부장, 상무)</td>\n",
              "      <td>황보현의 크리에이티브, 데이터 그리고 인공지능 논리와 창의 사이 크리에이터가 데이터...</td>\n",
              "      <td>스타강사 강연 정보</td>\n",
              "      <td>2021.11.10.</td>\n",
              "    </tr>\n",
              "    <tr>\n",
              "      <th>99</th>\n",
              "      <td>100</td>\n",
              "      <td>11/10</td>\n",
              "      <td>500개가 넘는 세션을 열어서 산업용 메타버스 도구, 물리 법칙을 학습하는 ai, ...</td>\n",
              "      <td>push your limits</td>\n",
              "      <td>2021.11.10.</td>\n",
              "    </tr>\n",
              "  </tbody>\n",
              "</table>\n",
              "<p>100 rows × 5 columns</p>\n",
              "</div>"
            ],
            "text/plain": [
              "     번호                                     제목  \\\n",
              "0     1                     트링크AI는 지역관광 솔루션입니다   \n",
              "1     2                 와이파이6 공유기 넷기어 RAX20 연결   \n",
              "2     3               마인즈랩 공모 분석 [11/11~11/12]   \n",
              "3     4        2021년 11월 10일 염승환 일일시황 & 보고서 분석   \n",
              "4     5           오브제공기청정기 LG공식렌탈에서 알아보고 선택하세요   \n",
              "..  ...                                    ...   \n",
              "95   96   마인즈랩 공모주 청약 ｜ 수요예측 결과, 의무보유 확약 비율...   \n",
              "96   97      3번째 메타버스 독서모임 : 라이프로깅, 게더타운 생일...   \n",
              "97   98  마인즈랩 (377480) 공모주 청약 분석 / 인공지능 서비스...   \n",
              "98   99                      황보현 HS애드(본부장, 상무)   \n",
              "99  100                                  11/10   \n",
              "\n",
              "                                                   내용  \\\n",
              "0   첫째, AI 감성분석 (인공지능 분석) 합니다. 총 11개 SNS 채널의 수십만 데...   \n",
              "1   편리한 기능이긴 하지만 IP 카메라나 인공지능스피커 같이 오래된 제품의 경우 2.4...   \n",
              "2   필수적인 인공지능 인간 플랫폼 기업. 최근 이슈가 되었던 로지(신한라이프... 스마...   \n",
              "3   메타버스에서 데이터, 네트워크, 인공지능은 매우 중요, 클라우드 서버의... 주인공...   \n",
              "4   공기청정기 인공 지능센서 무빙휠증정 알파공기청정기 월요금할인까지!! 이곳 LG공식렌...   \n",
              "..                                                ...   \n",
              "95  마인즈랩은 종합 인공지능 서비스 기업으로 AI 기술을 맞춤 조합하여 다양한 사업군과...   \n",
              "96  앞으로 인공지능, 블록체인 등 기술력에 의해 일자리 대체되지 말고 꼭 생존하자고요 ...   \n",
              "97  먼저 살펴볼 마인즈랩은 AI 인공지능 서비스 전문기업입니다. 사실 최근... AI ...   \n",
              "98  황보현의 크리에이티브, 데이터 그리고 인공지능 논리와 창의 사이 크리에이터가 데이터...   \n",
              "99  500개가 넘는 세션을 열어서 산업용 메타버스 도구, 물리 법칙을 학습하는 ai, ...   \n",
              "\n",
              "                         작성자          작성일  \n",
              "0                     t-link  2021.11.10.  \n",
              "1         donnie의 레알 스마트한 생활  2021.11.10.  \n",
              "2                온갖 잡동사니 보관소  2021.11.10.  \n",
              "3               장르를 넘나드는 헛발질  2021.11.10.  \n",
              "4                         별님  2021.11.10.  \n",
              "..                       ...          ...  \n",
              "95                 다시 쓰는 재테크  2021.11.10.  \n",
              "96  RE-ONE: 천천히 음미하며 정성을 다하길  2021.11.10.  \n",
              "97       넘버원의 먹고 즐기는 재테크 이야기  2021.11.10.  \n",
              "98                스타강사 강연 정보  2021.11.10.  \n",
              "99          push your limits  2021.11.10.  \n",
              "\n",
              "[100 rows x 5 columns]"
            ]
          },
          "execution_count": 41,
          "metadata": {},
          "output_type": "execute_result"
        }
      ],
      "source": [
        "Inflearn"
      ]
    },
    {
      "cell_type": "markdown",
      "metadata": {
        "id": "oNHeBsRTNwBC"
      },
      "source": [
        "<span style=\"color: red; font-size: 18pt\">\n",
        "Step 13. 데이터프레임을 csv 과 xlsx 형식의 데이터셋 파일로 저장하기\n",
        "</span> "
      ]
    },
    {
      "cell_type": "code",
      "execution_count": null,
      "metadata": {
        "id": "uaB-KwYnNwBC"
      },
      "outputs": [],
      "source": [
        "#csv 형태로 저장하기\n",
        "Inflearn.to_csv(fc_name, encoding=\"UTF-8-SIG\", index=False)\n",
        "\n",
        "#엑셀 형태로 저장하기\n",
        "Inflearn.to_excel(fx_name, encoding=\"UTF-8-SIG\", index=False)\n",
        "\n",
        "e_time = time.time( )     # 검색이 종료된 시점의 timestamp 를 지정합니다\n",
        "t_time = e_time - s_time "
      ]
    },
    {
      "cell_type": "code",
      "execution_count": null,
      "metadata": {
        "id": "qF7Q-Ev4NwBD",
        "outputId": "65fb4e97-72b6-4498-f9f0-c322ed786546"
      },
      "outputs": [
        {
          "name": "stdout",
          "output_type": "stream",
          "text": [
            "================================================================================\n",
            "총 100 건 중에서 100 건의 데이터를 수집 완료 했습니다\n",
            "총 소요시간은 153.6 초 입니다 \n",
            "파일 저장 완료: txt 파일명 : 인공지능.txt \n",
            "파일 저장 완료: csv 파일명 : 인공지능.csv \n",
            "파일 저장 완료: xlsx 파일명 : 인공지능.xlsx \n",
            "================================================================================\n"
          ]
        }
      ],
      "source": [
        "#크롤링 결과 요약해서 출력하기\n",
        "print(\"=\" *80)\n",
        "print(\"총 %s 건 중에서 %s 건의 데이터를 수집 완료 했습니다\" %(no-1, cnt))\n",
        "print(\"총 소요시간은 %s 초 입니다 \" %round(t_time,1))\n",
        "print(\"파일 저장 완료: txt 파일명 : %s \" %ft_name)\n",
        "print(\"파일 저장 완료: csv 파일명 : %s \" %fc_name)\n",
        "print(\"파일 저장 완료: xlsx 파일명 : %s \" %fx_name)\n",
        "print(\"=\" *80)\n",
        "\n",
        "driver.close( )"
      ]
    },
    {
      "cell_type": "markdown",
      "metadata": {
        "id": "elocM8GKNwBD"
      },
      "source": [
        "# 참고"
      ]
    },
    {
      "cell_type": "markdown",
      "metadata": {
        "id": "AwBH-Sp5NwBD"
      },
      "source": [
        "웹 크롤러 제작비? \n",
        "\n",
        "https://kmong.com/gig/344111\n",
        "\n",
        "https://kmong.com/gig/78513"
      ]
    },
    {
      "cell_type": "markdown",
      "metadata": {
        "id": "kZ6h-hUcNwBE"
      },
      "source": [
        "● 정적 페이지란?   \n",
        "정적페이지란 항상 같은 내용을 보여주는 웹페이지로 사용자가 URL을 통해 서버에 웹 페이지를 요청하였을 때,   \n",
        "서버 안에 이미 만들어져 있는 HTML 문서를 사용자에게 보여주는 경우 이를 정적 웹페이지라고 한다.  \n",
        "ex) 백과사전의 내용과 같이 항상 같은 내용을 보여준다.  "
      ]
    },
    {
      "cell_type": "markdown",
      "metadata": {
        "id": "fDoEuXpGNwBE"
      },
      "source": [
        "● 동적 페이지란?  \n",
        "동적페이지란 요청에 대해서 각각 다른 내용을 보여준다.  \n",
        "사용자(클라이언트)가 URL 을 통해 서버에 웹 페이지를 요청했을 때,   \n",
        "서버는 사용자에 맞는 HTML 문서를 생성하여 사용자에게 응답하게 된다. 이를 동적 웹 페이지라고 한다.  \n",
        "ex) 온라인 쇼핑몰의 장바구니, 최근 본 상품, 추천 물건, 사이트의 회원가입, 로그인 등   "
      ]
    },
    {
      "cell_type": "code",
      "execution_count": null,
      "metadata": {
        "id": "HTNLVLxnNwBE"
      },
      "outputs": [],
      "source": []
    },
    {
      "cell_type": "code",
      "source": [],
      "metadata": {
        "id": "qnK3e8LxN-v5"
      },
      "execution_count": null,
      "outputs": []
    }
  ],
  "metadata": {
    "kernelspec": {
      "display_name": "Python 3 (ipykernel)",
      "language": "python",
      "name": "python3"
    },
    "language_info": {
      "codemirror_mode": {
        "name": "ipython",
        "version": 3
      },
      "file_extension": ".py",
      "mimetype": "text/x-python",
      "name": "python",
      "nbconvert_exporter": "python",
      "pygments_lexer": "ipython3",
      "version": "3.9.7"
    },
    "colab": {
      "provenance": []
    }
  },
  "nbformat": 4,
  "nbformat_minor": 0
}