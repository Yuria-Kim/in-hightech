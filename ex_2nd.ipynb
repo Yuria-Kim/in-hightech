{
  "nbformat": 4,
  "nbformat_minor": 0,
  "metadata": {
    "colab": {
      "provenance": [],
      "authorship_tag": "ABX9TyPDxDAzb4u6e/3n1Bp27fJb"
    },
    "kernelspec": {
      "name": "python3",
      "display_name": "Python 3"
    },
    "language_info": {
      "name": "python"
    }
  },
  "cells": [
    {
      "cell_type": "code",
      "execution_count": 41,
      "metadata": {
        "id": "OoJkQHEdxyiU"
      },
      "outputs": [],
      "source": [
        "menu = [\"짜장면\", \"짬뽕\", \"군만두\", \"탕수육\"]\n",
        "price = [5000, 6000, 8000, 10000] "
      ]
    },
    {
      "cell_type": "code",
      "source": [
        "print(\"1.\", menu[0],\"-\",price[0],\"원\\t\", \"2.\", menu[1],\"-\",price[1],\"원\")\n",
        "print(\"3.\", menu[2],\"-\",price[2],\"원\\t\", \"4.\", menu[3],\"-\",price[3],\"원\")"
      ],
      "metadata": {
        "id": "-xNnWzBgyOGc"
      },
      "execution_count": null,
      "outputs": []
    },
    {
      "cell_type": "code",
      "source": [
        "order=int(input(\"1. 위 메뉴 중 주문할 메뉴의 번호를 쓰세요:\"))\n",
        "count=int(input(\"2. 위 메뉴의 주문 수량을 쓰세요:\"))"
      ],
      "metadata": {
        "id": "l7v8FCtWztv9"
      },
      "execution_count": null,
      "outputs": []
    },
    {
      "cell_type": "code",
      "source": [
        "if order==1:\n",
        "  print(\"주문하신 메뉴는 %s 이고, 주문 수량은 %d그릇이며 주문금액은 %d입니다.\"  %(menu[0],count,count*price[0]))\n",
        "elif order==2:\n",
        "  print(\"주문하신 메뉴는 %s 이고, 주문 수량은 %d그릇이며 주문금액은 %d입니다.\"  %(menu[1],count,count*price[1]))\n",
        "elif order==3:\n",
        "  print(\"주문하신 메뉴는 %s 이고, 주문 수량은 %d그릇이며 주문금액은 %d입니다.\"  %(menu[2],count,count*price[2]))\n",
        "elif order==4:\n",
        "  print(\"주문하신 메뉴는 %s 이고, 주문 수량은 %d그릇이며 주문금액은 %d입니다.\"  %(menu[3],count,count*price[3]))\n",
        "else :\n",
        "  print(\"잘못된 주문입니다.\")"
      ],
      "metadata": {
        "id": "7ARp6IxC0Fii"
      },
      "execution_count": null,
      "outputs": []
    },
    {
      "cell_type": "code",
      "source": [
        "re_order=0 # 주문 횟수 / 반복에서 벗어나기 위해 추가 주문시마다 +1되게 만들기 위해 0으로 설정\n",
        "\n",
        "while re_order < 3: # 3회까지는 반복\n",
        "  customer_order = input(\"3. 추가 주문을 하시겠습니까? (Y/N)\")\n",
        "  if customer_order==\"Y\" or customer_order==\"y\": # 딱 두가지 변수에만 작동되게 하기위해 각각 지정\n",
        "    re_order += 1\n",
        "    print(\"%s번째 추가 주문입니다.\\n\" %re_order)\n",
        "\n",
        "    print(\"1.\", menu[0],\"-\",price[0],\"원\\t\", \"2.\", menu[1],\"-\",price[1],\"원\")\n",
        "    print(\"3.\", menu[2],\"-\",price[2],\"원\\t\", \"4.\", menu[3],\"-\",price[3],\"원\\n\") # 메뉴 재출력\n",
        "\n",
        "    order=int(input(\"1. 위 메뉴 중 주문할 메뉴의 번호를 쓰세요:\"))\n",
        "    count=int(input(\"2. 위 메뉴의 주문 수량을 쓰세요:\"))\n",
        "\n",
        "    if order==1:\n",
        "      print(\"주문하신 메뉴는 %s 이고, 주문 수량은 %d그릇이며 주문금액은 %d입니다.\\n\"  %(menu[0],count,count*price[0]))\n",
        "    elif order==2:\n",
        "      print(\"주문하신 메뉴는 %s 이고, 주문 수량은 %d그릇이며 주문금액은 %d입니다.\\n\"  %(menu[1],count,count*price[1]))\n",
        "    elif order==3:\n",
        "      print(\"주문하신 메뉴는 %s 이고, 주문 수량은 %d그릇이며 주문금액은 %d입니다.\\n\"  %(menu[2],count,count*price[2]))\n",
        "    elif order==4:\n",
        "      print(\"주문하신 메뉴는 %s 이고, 주문 수량은 %d그릇이며 주문금액은 %d입니다.\\n\"  %(menu[3],count,count*price[3]))\n",
        "    else :\n",
        "      print(\"잘못된 주문입니다.\\n\")\n",
        "      continue\n",
        "      # 두번쨰 if 부터 여기까지 다시 주문받는 코드 / continue를 사용해서 메뉴1~4 이외의 값을 넣었을때 error표시 보여주자.\n",
        "\n",
        "  else: \n",
        "      print(\"주문이 완료되었습니다.\") \n",
        "      break\n",
        "      \n",
        "  if re_order==3: # 여기 if 문은 while문 이후에 실행되는 부분이니까 들여쓰기 꼭꼭! 반복문을 중복해서 쓸땐 loop계산 잘하자 ㅠㅠ\n",
        "    print(\"추가주문은 총 3회까지만 가능합니다\")\n",
        "    break"
      ],
      "metadata": {
        "id": "BMdrsQrOIGQq"
      },
      "execution_count": null,
      "outputs": []
    },
    {
      "cell_type": "code",
      "source": [],
      "metadata": {
        "id": "0zpVRJOEVteY"
      },
      "execution_count": null,
      "outputs": []
    }
  ]
}